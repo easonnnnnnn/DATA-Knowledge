{
 "cells": [
  {
   "cell_type": "code",
   "execution_count": 242,
   "metadata": {
    "collapsed": true
   },
   "outputs": [],
   "source": [
    "import pandas as pd\n",
    "import numpy as np\n",
    "import sklearn as sk\n",
    "import scipy as sp\n",
    "import matplotlib.pyplot as plt\n",
    "import matplotlib.gridspec as gridspec\n",
    "import itertools\n",
    "\n",
    "%matplotlib inline"
   ]
  },
  {
   "cell_type": "markdown",
   "metadata": {},
   "source": [
    "## Classificaiton"
   ]
  },
  {
   "cell_type": "code",
   "execution_count": 2,
   "metadata": {
    "collapsed": true
   },
   "outputs": [],
   "source": [
    "from sklearn.svm import SVC, LinearSVC "
   ]
  },
  {
   "cell_type": "markdown",
   "metadata": {},
   "source": [
    "## SVC: support vector machine\n",
    "\n",
    "- 在libsvm的基础上实现\n",
    "- 时间复杂度： more than $O(n^2)$\n",
    "- 对于大的样本量（比如多于10000个样本），难以很好的scale\n",
    "- 多类分类问题，是基于 OVO（one vs one）的算法\n",
    "- 可以实现不同的kernel函数"
   ]
  },
  {
   "cell_type": "code",
   "execution_count": 3,
   "metadata": {
    "collapsed": true
   },
   "outputs": [],
   "source": [
    "svc = SVC()"
   ]
  },
  {
   "cell_type": "code",
   "execution_count": 4,
   "metadata": {},
   "outputs": [
    {
     "name": "stdout",
     "output_type": "stream",
     "text": [
      "SVC(C=1.0, cache_size=200, class_weight=None, coef0=0.0,\n",
      "  decision_function_shape='ovr', degree=3, gamma='auto', kernel='rbf',\n",
      "  max_iter=-1, probability=False, random_state=None, shrinking=True,\n",
      "  tol=0.001, verbose=False)\n"
     ]
    }
   ],
   "source": [
    "print svc"
   ]
  },
  {
   "cell_type": "markdown",
   "metadata": {},
   "source": [
    "- C : 浮点（float），默认值为1.0\n",
    "\n",
    "\\begin{align}\n",
    "& J(\\boldsymbol{w}) = \\sum_{i=1}^m{\\max(1-y_i{\\boldsymbol{w}^T\\boldsymbol{x}_i, 0)}}+\\lambda \\|\\boldsymbol{w} \\|^2 \\\\\n",
    "\\Rightarrow \\ \\ & J(\\boldsymbol{w}) = C\\sum_{i=1}^m{\\max(1-y_i{\\boldsymbol{w}^T\\boldsymbol{x}_i, 0)}}+ \\|\\boldsymbol{w} \\|^2 \\\\\n",
    "\\end{align}\n",
    "\n",
    "    C是其他算法里正则化强度 $\\lambda$ 的倒数，C越大，正则化强度越小， 容易过拟合\n",
    "    \n",
    "- kernel : 和函数，输入值是string,  默认值是 “rbf”（高斯），亦或是\n",
    "    1. “linear”： 线性$\\ \\ k(x_1,x_2) = x_1^Tx_2$  \n",
    "    \n",
    "    2. “poly”： 多项式 $\\ k(x_1,x_2) = (x_1^Tx_2 + r)^d $  \n",
    "    \n",
    "    3. \"rbf\": 高斯$\\ \\ \\ k(x_1,x_2) = e^{-\\frac{|x_1-x_2|^2}{2\\sigma^2}} = e^{-\\gamma (x_1-x_2)^2}$  \n",
    "    \n",
    "    4. ”sigmoid“$\\ \\ \\ \\ k(x_1,x_2) = tanh(\\beta x_1^Tx_2 + \\theta), \\beta >0, \\theta <0$\n",
    "  \n",
    "  \n",
    "- decision function: “ovr“（one vs rest） or ”ovo“（one vs one）  \n",
    "  针对于多类分类：  \n",
    "  ** ovr： 会有n_samples个分类器  **  \n",
    "  ** ovo： 会有n_samples(n_samples-1)/2个分类器 **\n",
    "\n",
    "<img src = \"../utils/ovr.png\" style=\"width: 300px;\"> \n",
    "<img src = \"../utils/ovo.png\" style=\"width: 300px;\">"
   ]
  },
  {
   "cell_type": "code",
   "execution_count": 233,
   "metadata": {
    "collapsed": true
   },
   "outputs": [],
   "source": [
    "from sklearn.model_selection import train_test_split\n",
    "from sklearn.preprocessing import StandardScaler\n",
    "from sklearn.datasets import make_moons, make_circles, make_classification, make_blobs\n",
    "from sklearn.gaussian_process.kernels import RBF\n",
    "from matplotlib.colors import ListedColormap"
   ]
  },
  {
   "cell_type": "code",
   "execution_count": 185,
   "metadata": {
    "collapsed": true
   },
   "outputs": [],
   "source": [
    "X, y = make_classification(n_features = 2, n_redundant = 0, n_informative = 2, n_samples= 200,\n",
    "                           random_state = 1, n_clusters_per_class = 1)\n",
    "rng = np.random.RandomState(2)\n",
    "X += 2 * rng.uniform(size=X.shape)"
   ]
  },
  {
   "cell_type": "code",
   "execution_count": 186,
   "metadata": {},
   "outputs": [
    {
     "name": "stdout",
     "output_type": "stream",
     "text": [
      "(200, 2)\n",
      "(200,)\n"
     ]
    }
   ],
   "source": [
    "print X.shape\n",
    "print y.shape"
   ]
  },
  {
   "cell_type": "code",
   "execution_count": 187,
   "metadata": {
    "collapsed": true
   },
   "outputs": [],
   "source": [
    "# 定义plot的colormap\n",
    "cm = plt.cm.RdBu\n",
    "cm_bright = ListedColormap(['#FF0000', '#0000FF'])"
   ]
  },
  {
   "cell_type": "code",
   "execution_count": 188,
   "metadata": {},
   "outputs": [
    {
     "data": {
      "text/plain": [
       "Text(0,0.5,u'x2')"
      ]
     },
     "execution_count": 188,
     "metadata": {},
     "output_type": "execute_result"
    },
    {
     "data": {
      "image/png": "[encoded data removed]",
      "text/plain": [
       "<matplotlib.figure.Figure at 0x10c36dbd0>"
      ]
     },
     "metadata": {},
     "output_type": "display_data"
    }
   ],
   "source": [
    "plt.scatter(X[:,0], X[:, 1], c = y, cmap = cm_bright)\n",
    "plt.xlabel(\"x1\")\n",
    "plt.ylabel(\"x2\")"
   ]
  },
  {
   "cell_type": "markdown",
   "metadata": {},
   "source": [
    "## Linear SVM\n",
    "\n",
    "- 大家尝试先用线性核的SVM来训练样本，计算precision，recall，f1等参量\n",
    "- 尝试用mlxtend的plot decision boundary 画出分类器的决策边界"
   ]
  },
  {
   "cell_type": "code",
   "execution_count": 190,
   "metadata": {
    "collapsed": true
   },
   "outputs": [],
   "source": [
    "from sklearn.metrics import precision_score, recall_score, f1_score, confusion_matrix\n",
    "from mlxtend.plotting import plot_decision_regions"
   ]
  },
  {
   "cell_type": "code",
   "execution_count": null,
   "metadata": {
    "collapsed": true
   },
   "outputs": [],
   "source": [
    "linear_svc = ?"
   ]
  },
  {
   "cell_type": "code",
   "execution_count": null,
   "metadata": {
    "collapsed": true
   },
   "outputs": [],
   "source": []
  },
  {
   "cell_type": "code",
   "execution_count": null,
   "metadata": {
    "collapsed": true
   },
   "outputs": [],
   "source": []
  },
  {
   "cell_type": "code",
   "execution_count": null,
   "metadata": {
    "collapsed": true
   },
   "outputs": [],
   "source": []
  },
  {
   "cell_type": "code",
   "execution_count": null,
   "metadata": {
    "collapsed": true
   },
   "outputs": [],
   "source": []
  },
  {
   "cell_type": "markdown",
   "metadata": {},
   "source": [
    "## SVM with rbf kernel"
   ]
  },
  {
   "cell_type": "code",
   "execution_count": 1,
   "metadata": {
    "collapsed": true
   },
   "outputs": [],
   "source": [
    "# 同学们，可以试试高斯核函数，set gamma = 2， C = 0.1 做和线性核同样的操作"
   ]
  },
  {
   "cell_type": "code",
   "execution_count": null,
   "metadata": {
    "collapsed": true
   },
   "outputs": [],
   "source": []
  },
  {
   "cell_type": "code",
   "execution_count": null,
   "metadata": {
    "collapsed": true
   },
   "outputs": [],
   "source": []
  },
  {
   "cell_type": "code",
   "execution_count": null,
   "metadata": {
    "collapsed": true
   },
   "outputs": [],
   "source": []
  },
  {
   "cell_type": "code",
   "execution_count": 196,
   "metadata": {
    "collapsed": true
   },
   "outputs": [],
   "source": [
    "## Play around with the paramter gamma and C\n",
    "##  同学们可以自己先试试这几个paramter\n",
    "## 看看SVM随着C和gamma怎么变化\n",
    "\n",
    "C_list = [0.1, 1., 10.]\n",
    "gamma_list = [0.2, 2., 20.]"
   ]
  },
  {
   "cell_type": "markdown",
   "metadata": {},
   "source": [
    "## SVM 高斯核函数参数1: C\n",
    "\n",
    "- 其中 C是惩罚系数，即对误差的宽容度\n",
    "- C 越小， 正则化强度越大，容易欠拟合\n",
    "- C 越大， 说明越不能容忍出现误差,容易过拟合"
   ]
  },
  {
   "cell_type": "code",
   "execution_count": null,
   "metadata": {
    "collapsed": true
   },
   "outputs": [],
   "source": []
  },
  {
   "cell_type": "code",
   "execution_count": null,
   "metadata": {
    "collapsed": true
   },
   "outputs": [],
   "source": []
  },
  {
   "cell_type": "code",
   "execution_count": null,
   "metadata": {
    "collapsed": true
   },
   "outputs": [],
   "source": []
  },
  {
   "cell_type": "markdown",
   "metadata": {},
   "source": [
    "## SVM 高斯核函数参数2: gamma\n",
    "\n",
    "- gamma是选择RBF函数作为kernel后，该函数自带的一个参数\n",
    "- 隐含地决定了数据映射到新的特征空间后的分布\n",
    "- gamma越大，单个样本对整个分类超平面的影响比较大，整个模型的支持向量也会多， 过拟合\n",
    "- gamma值越小，单个样本对整个分类超平面的影响比较小，不容易被选择为支持向量，容易欠拟合\n",
    "\n",
    "$$\n",
    "k(x_1,x_2) = e^{-\\frac{|x_1-x_2|^2}{2\\sigma^2}} = e^{-\\gamma (x_1-x_2)^2}\n",
    "$$ "
   ]
  },
  {
   "cell_type": "code",
   "execution_count": null,
   "metadata": {
    "collapsed": true
   },
   "outputs": [],
   "source": []
  },
  {
   "cell_type": "markdown",
   "metadata": {
    "collapsed": true
   },
   "source": [
    "## 多类分类：multiclass classficiation\n",
    "\n",
    "- OVO\n",
    "- OVR\n",
    "- 同学们尝试用如下的数据集做一下多类分类"
   ]
  },
  {
   "cell_type": "code",
   "execution_count": 264,
   "metadata": {
    "collapsed": true
   },
   "outputs": [],
   "source": [
    "from sklearn.multiclass import OneVsOneClassifier, OneVsRestClassifier"
   ]
  },
  {
   "cell_type": "code",
   "execution_count": 269,
   "metadata": {
    "collapsed": true
   },
   "outputs": [],
   "source": [
    "X2, Y2 = make_blobs(n_samples=200, n_features = 2, centers = 5, random_state=1,cluster_std = 1)"
   ]
  },
  {
   "cell_type": "code",
   "execution_count": 270,
   "metadata": {},
   "outputs": [
    {
     "data": {
      "image/png": "[encoded data removed]",
      "text/plain": [
       "<matplotlib.figure.Figure at 0x110928550>"
      ]
     },
     "metadata": {},
     "output_type": "display_data"
    }
   ],
   "source": [
    "plt.scatter(X2[:,0], X2[:,1], c = Y2)\n",
    "plt.show()"
   ]
  },
  {
   "cell_type": "code",
   "execution_count": 271,
   "metadata": {
    "collapsed": true
   },
   "outputs": [],
   "source": [
    "rbf_ovr = SVC(kernel = 'rbf', decision_function_shape = \"ovr\")\n",
    "\n",
    "rbf_ovo = OneVsOneClassifier(SVC(kernel = \"rbf\"))"
   ]
  },
  {
   "cell_type": "code",
   "execution_count": null,
   "metadata": {
    "collapsed": true
   },
   "outputs": [],
   "source": []
  },
  {
   "cell_type": "markdown",
   "metadata": {},
   "source": [
    "## SVR: 支持向量回归\n",
    "\n",
    "- 同学们可以尝试用如下的数据集做一些支持向量回归"
   ]
  },
  {
   "cell_type": "code",
   "execution_count": 273,
   "metadata": {
    "collapsed": true
   },
   "outputs": [],
   "source": [
    "from sklearn.svm import SVR"
   ]
  },
  {
   "cell_type": "code",
   "execution_count": 275,
   "metadata": {},
   "outputs": [
    {
     "data": {
      "image/png": "[encoded data removed]",
      "text/plain": [
       "<matplotlib.figure.Figure at 0x11075a990>"
      ]
     },
     "metadata": {},
     "output_type": "display_data"
    }
   ],
   "source": [
    "# 数据\n",
    "X = np.sort(5 * np.random.rand(40, 1), axis=0)\n",
    "y = np.sin(X).ravel()\n",
    "\n",
    "# 人为增加一些噪声\n",
    "y[::5] += 3 * (0.5 - np.random.rand(8))\n",
    "\n",
    "plt.scatter(X, y)\n",
    "plt.xlabel(\"X\")\n",
    "plt.ylabel(\"y\")\n",
    "plt.show()"
   ]
  },
  {
   "cell_type": "code",
   "execution_count": null,
   "metadata": {
    "collapsed": true
   },
   "outputs": [],
   "source": []
  },
  {
   "cell_type": "code",
   "execution_count": null,
   "metadata": {
    "collapsed": true
   },
   "outputs": [],
   "source": []
  },
  {
   "cell_type": "code",
   "execution_count": null,
   "metadata": {
    "collapsed": true
   },
   "outputs": [],
   "source": []
  },
  {
   "cell_type": "markdown",
   "metadata": {},
   "source": [
    "* 大家可以试试改变C的值，看看对模型有什么变化\n",
    "* 还有其他参数，比如高斯核函数的gamma，多项式核函数的polynomial项"
   ]
  },
  {
   "cell_type": "code",
   "execution_count": null,
   "metadata": {
    "collapsed": true
   },
   "outputs": [],
   "source": []
  },
  {
   "cell_type": "code",
   "execution_count": null,
   "metadata": {
    "collapsed": true
   },
   "outputs": [],
   "source": []
  },
  {
   "cell_type": "code",
   "execution_count": null,
   "metadata": {
    "collapsed": true
   },
   "outputs": [],
   "source": []
  },
  {
   "cell_type": "code",
   "execution_count": null,
   "metadata": {
    "collapsed": true
   },
   "outputs": [],
   "source": []
  },
  {
   "cell_type": "code",
   "execution_count": null,
   "metadata": {
    "collapsed": true
   },
   "outputs": [],
   "source": []
  },
  {
   "cell_type": "code",
   "execution_count": null,
   "metadata": {
    "collapsed": true
   },
   "outputs": [],
   "source": []
  },
  {
   "cell_type": "code",
   "execution_count": null,
   "metadata": {
    "collapsed": true
   },
   "outputs": [],
   "source": []
  }
 ],
 "metadata": {
  "kernelspec": {
   "display_name": "Python 2",
   "language": "python",
   "name": "python2"
  },
  "language_info": {
   "codemirror_mode": {
    "name": "ipython",
    "version": 2
   },
   "file_extension": ".py",
   "mimetype": "text/x-python",
   "name": "python",
   "nbconvert_exporter": "python",
   "pygments_lexer": "ipython2",
   "version": "2.7.14"
  }
 },
 "nbformat": 4,
 "nbformat_minor": 2
}
